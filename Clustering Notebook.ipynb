{
    "nbformat_minor": 1, 
    "cells": [
        {
            "execution_count": 1, 
            "cell_type": "code", 
            "metadata": {}, 
            "outputs": [], 
            "source": "\nimport pandas as pd\nimport numpy as np\nimport bs4 \nimport csv\nimport requests\nfrom urllib.request import urlopen as uReq\nfrom bs4 import BeautifulSoup as soup\n"
        }, 
        {
            "execution_count": 2, 
            "cell_type": "code", 
            "metadata": {}, 
            "outputs": [], 
            "source": "my_url = 'https://en.wikipedia.org/wiki/List_of_postal_codes_of_Canada:_M'"
        }, 
        {
            "execution_count": 3, 
            "cell_type": "code", 
            "metadata": {}, 
            "outputs": [], 
            "source": "uClient = uReq(my_url) #opening connection grabbing page"
        }, 
        {
            "execution_count": 4, 
            "cell_type": "code", 
            "metadata": {}, 
            "outputs": [], 
            "source": "page_html = uClient.read()\nuClient.close()\npage_soup = soup(page_html,'html.parser') #html parsing\n"
        }, 
        {
            "execution_count": 5, 
            "cell_type": "code", 
            "metadata": {}, 
            "outputs": [
                {
                    "execution_count": 5, 
                    "metadata": {}, 
                    "data": {
                        "text/plain": "<h1 class=\"firstHeading\" id=\"firstHeading\" lang=\"en\">List of postal codes of Canada: M</h1>"
                    }, 
                    "output_type": "execute_result"
                }
            ], 
            "source": "page_soup.h1 #testing"
        }, 
        {
            "execution_count": 6, 
            "cell_type": "code", 
            "metadata": {}, 
            "outputs": [
                {
                    "execution_count": 6, 
                    "metadata": {}, 
                    "data": {
                        "text/plain": "<td>M1A</td>"
                    }, 
                    "output_type": "execute_result"
                }
            ], 
            "source": "page_soup.td"
        }, 
        {
            "execution_count": 7, 
            "cell_type": "code", 
            "metadata": {}, 
            "outputs": [
                {
                    "execution_count": 7, 
                    "metadata": {}, 
                    "data": {
                        "text/plain": "0"
                    }, 
                    "output_type": "execute_result"
                }
            ], 
            "source": "containers = page_soup.findAll(\"table\",{\"class\": \"wikitable sortable jquery-tablesorter\"})\nlen(containers)"
        }, 
        {
            "execution_count": 8, 
            "cell_type": "code", 
            "metadata": {}, 
            "outputs": [
                {
                    "execution_count": 8, 
                    "metadata": {}, 
                    "data": {
                        "text/plain": "898"
                    }, 
                    "output_type": "execute_result"
                }
            ], 
            "source": "containers_2 = page_soup.findAll(\"td\")\nlen(containers_2)\n    \n    "
        }, 
        {
            "execution_count": 9, 
            "cell_type": "code", 
            "metadata": {}, 
            "outputs": [], 
            "source": "table = page_soup.find(\"table\")"
        }, 
        {
            "execution_count": 10, 
            "cell_type": "code", 
            "metadata": {}, 
            "outputs": [], 
            "source": "output_rows = []\nfor table_row in table.findAll('tr'):\n    columns = table_row.findAll('td')\n    output_row = []\n    for column in columns:\n        output_row.append(column.text)\n    output_rows.append(output_row)\n    \n"
        }, 
        {
            "execution_count": 11, 
            "cell_type": "code", 
            "metadata": {}, 
            "outputs": [], 
            "source": "\nwith open('output.csv', 'w') as csvfile:\n    writer = csv.writer(csvfile)\n    writer.writerows(output_rows)"
        }, 
        {
            "execution_count": 12, 
            "cell_type": "code", 
            "metadata": {}, 
            "outputs": [
                {
                    "execution_count": 12, 
                    "metadata": {}, 
                    "data": {
                        "text/html": "<div>\n<style scoped>\n    .dataframe tbody tr th:only-of-type {\n        vertical-align: middle;\n    }\n\n    .dataframe tbody tr th {\n        vertical-align: top;\n    }\n\n    .dataframe thead th {\n        text-align: right;\n    }\n</style>\n<table border=\"1\" class=\"dataframe\">\n  <thead>\n    <tr style=\"text-align: right;\">\n      <th></th>\n      <th>Postcode</th>\n      <th>Borough</th>\n      <th>Neighborhood</th>\n    </tr>\n  </thead>\n  <tbody>\n    <tr>\n      <th>0</th>\n      <td>M1A</td>\n      <td>Not assigned</td>\n      <td>Not assigned\\n</td>\n    </tr>\n    <tr>\n      <th>1</th>\n      <td>M2A</td>\n      <td>Not assigned</td>\n      <td>Not assigned\\n</td>\n    </tr>\n    <tr>\n      <th>2</th>\n      <td>M3A</td>\n      <td>North York</td>\n      <td>Parkwoods\\n</td>\n    </tr>\n    <tr>\n      <th>3</th>\n      <td>M4A</td>\n      <td>North York</td>\n      <td>Victoria Village\\n</td>\n    </tr>\n    <tr>\n      <th>4</th>\n      <td>M5A</td>\n      <td>Downtown Toronto</td>\n      <td>Harbourfront\\n</td>\n    </tr>\n    <tr>\n      <th>5</th>\n      <td>M5A</td>\n      <td>Downtown Toronto</td>\n      <td>Regent Park\\n</td>\n    </tr>\n    <tr>\n      <th>6</th>\n      <td>M6A</td>\n      <td>North York</td>\n      <td>Lawrence Heights\\n</td>\n    </tr>\n    <tr>\n      <th>7</th>\n      <td>M6A</td>\n      <td>North York</td>\n      <td>Lawrence Manor\\n</td>\n    </tr>\n    <tr>\n      <th>8</th>\n      <td>M7A</td>\n      <td>Queen's Park</td>\n      <td>Not assigned\\n</td>\n    </tr>\n    <tr>\n      <th>9</th>\n      <td>M8A</td>\n      <td>Not assigned</td>\n      <td>Not assigned\\n</td>\n    </tr>\n    <tr>\n      <th>10</th>\n      <td>M9A</td>\n      <td>Etobicoke</td>\n      <td>Islington Avenue\\n</td>\n    </tr>\n    <tr>\n      <th>11</th>\n      <td>M1B</td>\n      <td>Scarborough</td>\n      <td>Rouge\\n</td>\n    </tr>\n    <tr>\n      <th>12</th>\n      <td>M1B</td>\n      <td>Scarborough</td>\n      <td>Malvern\\n</td>\n    </tr>\n    <tr>\n      <th>13</th>\n      <td>M2B</td>\n      <td>Not assigned</td>\n      <td>Not assigned\\n</td>\n    </tr>\n    <tr>\n      <th>14</th>\n      <td>M3B</td>\n      <td>North York</td>\n      <td>Don Mills North\\n</td>\n    </tr>\n    <tr>\n      <th>15</th>\n      <td>M4B</td>\n      <td>East York</td>\n      <td>Woodbine Gardens\\n</td>\n    </tr>\n    <tr>\n      <th>16</th>\n      <td>M4B</td>\n      <td>East York</td>\n      <td>Parkview Hill\\n</td>\n    </tr>\n    <tr>\n      <th>17</th>\n      <td>M5B</td>\n      <td>Downtown Toronto</td>\n      <td>Ryerson\\n</td>\n    </tr>\n    <tr>\n      <th>18</th>\n      <td>M5B</td>\n      <td>Downtown Toronto</td>\n      <td>Garden District\\n</td>\n    </tr>\n    <tr>\n      <th>19</th>\n      <td>M6B</td>\n      <td>North York</td>\n      <td>Glencairn\\n</td>\n    </tr>\n    <tr>\n      <th>20</th>\n      <td>M7B</td>\n      <td>Not assigned</td>\n      <td>Not assigned\\n</td>\n    </tr>\n    <tr>\n      <th>21</th>\n      <td>M8B</td>\n      <td>Not assigned</td>\n      <td>Not assigned\\n</td>\n    </tr>\n    <tr>\n      <th>22</th>\n      <td>M9B</td>\n      <td>Etobicoke</td>\n      <td>Cloverdale\\n</td>\n    </tr>\n    <tr>\n      <th>23</th>\n      <td>M9B</td>\n      <td>Etobicoke</td>\n      <td>Islington\\n</td>\n    </tr>\n    <tr>\n      <th>24</th>\n      <td>M9B</td>\n      <td>Etobicoke</td>\n      <td>Martin Grove\\n</td>\n    </tr>\n    <tr>\n      <th>25</th>\n      <td>M9B</td>\n      <td>Etobicoke</td>\n      <td>Princess Gardens\\n</td>\n    </tr>\n    <tr>\n      <th>26</th>\n      <td>M9B</td>\n      <td>Etobicoke</td>\n      <td>West Deane Park\\n</td>\n    </tr>\n    <tr>\n      <th>27</th>\n      <td>M1C</td>\n      <td>Scarborough</td>\n      <td>Highland Creek\\n</td>\n    </tr>\n    <tr>\n      <th>28</th>\n      <td>M1C</td>\n      <td>Scarborough</td>\n      <td>Rouge Hill\\n</td>\n    </tr>\n    <tr>\n      <th>29</th>\n      <td>M1C</td>\n      <td>Scarborough</td>\n      <td>Port Union\\n</td>\n    </tr>\n    <tr>\n      <th>...</th>\n      <td>...</td>\n      <td>...</td>\n      <td>...</td>\n    </tr>\n    <tr>\n      <th>258</th>\n      <td>M9X</td>\n      <td>Not assigned</td>\n      <td>Not assigned\\n</td>\n    </tr>\n    <tr>\n      <th>259</th>\n      <td>M1Y</td>\n      <td>Not assigned</td>\n      <td>Not assigned\\n</td>\n    </tr>\n    <tr>\n      <th>260</th>\n      <td>M2Y</td>\n      <td>Not assigned</td>\n      <td>Not assigned\\n</td>\n    </tr>\n    <tr>\n      <th>261</th>\n      <td>M3Y</td>\n      <td>Not assigned</td>\n      <td>Not assigned\\n</td>\n    </tr>\n    <tr>\n      <th>262</th>\n      <td>M4Y</td>\n      <td>Downtown Toronto</td>\n      <td>Church and Wellesley\\n</td>\n    </tr>\n    <tr>\n      <th>263</th>\n      <td>M5Y</td>\n      <td>Not assigned</td>\n      <td>Not assigned\\n</td>\n    </tr>\n    <tr>\n      <th>264</th>\n      <td>M6Y</td>\n      <td>Not assigned</td>\n      <td>Not assigned\\n</td>\n    </tr>\n    <tr>\n      <th>265</th>\n      <td>M7Y</td>\n      <td>East Toronto</td>\n      <td>Business Reply Mail Processing Centre 969 East...</td>\n    </tr>\n    <tr>\n      <th>266</th>\n      <td>M8Y</td>\n      <td>Etobicoke</td>\n      <td>Humber Bay\\n</td>\n    </tr>\n    <tr>\n      <th>267</th>\n      <td>M8Y</td>\n      <td>Etobicoke</td>\n      <td>King's Mill Park\\n</td>\n    </tr>\n    <tr>\n      <th>268</th>\n      <td>M8Y</td>\n      <td>Etobicoke</td>\n      <td>Kingsway Park South East\\n</td>\n    </tr>\n    <tr>\n      <th>269</th>\n      <td>M8Y</td>\n      <td>Etobicoke</td>\n      <td>Mimico NE\\n</td>\n    </tr>\n    <tr>\n      <th>270</th>\n      <td>M8Y</td>\n      <td>Etobicoke</td>\n      <td>Old Mill South\\n</td>\n    </tr>\n    <tr>\n      <th>271</th>\n      <td>M8Y</td>\n      <td>Etobicoke</td>\n      <td>The Queensway East\\n</td>\n    </tr>\n    <tr>\n      <th>272</th>\n      <td>M8Y</td>\n      <td>Etobicoke</td>\n      <td>Royal York South East\\n</td>\n    </tr>\n    <tr>\n      <th>273</th>\n      <td>M8Y</td>\n      <td>Etobicoke</td>\n      <td>Sunnylea\\n</td>\n    </tr>\n    <tr>\n      <th>274</th>\n      <td>M9Y</td>\n      <td>Not assigned</td>\n      <td>Not assigned\\n</td>\n    </tr>\n    <tr>\n      <th>275</th>\n      <td>M1Z</td>\n      <td>Not assigned</td>\n      <td>Not assigned\\n</td>\n    </tr>\n    <tr>\n      <th>276</th>\n      <td>M2Z</td>\n      <td>Not assigned</td>\n      <td>Not assigned\\n</td>\n    </tr>\n    <tr>\n      <th>277</th>\n      <td>M3Z</td>\n      <td>Not assigned</td>\n      <td>Not assigned\\n</td>\n    </tr>\n    <tr>\n      <th>278</th>\n      <td>M4Z</td>\n      <td>Not assigned</td>\n      <td>Not assigned\\n</td>\n    </tr>\n    <tr>\n      <th>279</th>\n      <td>M5Z</td>\n      <td>Not assigned</td>\n      <td>Not assigned\\n</td>\n    </tr>\n    <tr>\n      <th>280</th>\n      <td>M6Z</td>\n      <td>Not assigned</td>\n      <td>Not assigned\\n</td>\n    </tr>\n    <tr>\n      <th>281</th>\n      <td>M7Z</td>\n      <td>Not assigned</td>\n      <td>Not assigned\\n</td>\n    </tr>\n    <tr>\n      <th>282</th>\n      <td>M8Z</td>\n      <td>Etobicoke</td>\n      <td>Kingsway Park South West\\n</td>\n    </tr>\n    <tr>\n      <th>283</th>\n      <td>M8Z</td>\n      <td>Etobicoke</td>\n      <td>Mimico NW\\n</td>\n    </tr>\n    <tr>\n      <th>284</th>\n      <td>M8Z</td>\n      <td>Etobicoke</td>\n      <td>The Queensway West\\n</td>\n    </tr>\n    <tr>\n      <th>285</th>\n      <td>M8Z</td>\n      <td>Etobicoke</td>\n      <td>Royal York South West\\n</td>\n    </tr>\n    <tr>\n      <th>286</th>\n      <td>M8Z</td>\n      <td>Etobicoke</td>\n      <td>South of Bloor\\n</td>\n    </tr>\n    <tr>\n      <th>287</th>\n      <td>M9Z</td>\n      <td>Not assigned</td>\n      <td>Not assigned\\n</td>\n    </tr>\n  </tbody>\n</table>\n<p>288 rows \u00d7 3 columns</p>\n</div>", 
                        "text/plain": "    Postcode           Borough  \\\n0        M1A      Not assigned   \n1        M2A      Not assigned   \n2        M3A        North York   \n3        M4A        North York   \n4        M5A  Downtown Toronto   \n5        M5A  Downtown Toronto   \n6        M6A        North York   \n7        M6A        North York   \n8        M7A      Queen's Park   \n9        M8A      Not assigned   \n10       M9A         Etobicoke   \n11       M1B       Scarborough   \n12       M1B       Scarborough   \n13       M2B      Not assigned   \n14       M3B        North York   \n15       M4B         East York   \n16       M4B         East York   \n17       M5B  Downtown Toronto   \n18       M5B  Downtown Toronto   \n19       M6B        North York   \n20       M7B      Not assigned   \n21       M8B      Not assigned   \n22       M9B         Etobicoke   \n23       M9B         Etobicoke   \n24       M9B         Etobicoke   \n25       M9B         Etobicoke   \n26       M9B         Etobicoke   \n27       M1C       Scarborough   \n28       M1C       Scarborough   \n29       M1C       Scarborough   \n..       ...               ...   \n258      M9X      Not assigned   \n259      M1Y      Not assigned   \n260      M2Y      Not assigned   \n261      M3Y      Not assigned   \n262      M4Y  Downtown Toronto   \n263      M5Y      Not assigned   \n264      M6Y      Not assigned   \n265      M7Y      East Toronto   \n266      M8Y         Etobicoke   \n267      M8Y         Etobicoke   \n268      M8Y         Etobicoke   \n269      M8Y         Etobicoke   \n270      M8Y         Etobicoke   \n271      M8Y         Etobicoke   \n272      M8Y         Etobicoke   \n273      M8Y         Etobicoke   \n274      M9Y      Not assigned   \n275      M1Z      Not assigned   \n276      M2Z      Not assigned   \n277      M3Z      Not assigned   \n278      M4Z      Not assigned   \n279      M5Z      Not assigned   \n280      M6Z      Not assigned   \n281      M7Z      Not assigned   \n282      M8Z         Etobicoke   \n283      M8Z         Etobicoke   \n284      M8Z         Etobicoke   \n285      M8Z         Etobicoke   \n286      M8Z         Etobicoke   \n287      M9Z      Not assigned   \n\n                                          Neighborhood  \n0                                       Not assigned\\n  \n1                                       Not assigned\\n  \n2                                          Parkwoods\\n  \n3                                   Victoria Village\\n  \n4                                       Harbourfront\\n  \n5                                        Regent Park\\n  \n6                                   Lawrence Heights\\n  \n7                                     Lawrence Manor\\n  \n8                                       Not assigned\\n  \n9                                       Not assigned\\n  \n10                                  Islington Avenue\\n  \n11                                             Rouge\\n  \n12                                           Malvern\\n  \n13                                      Not assigned\\n  \n14                                   Don Mills North\\n  \n15                                  Woodbine Gardens\\n  \n16                                     Parkview Hill\\n  \n17                                           Ryerson\\n  \n18                                   Garden District\\n  \n19                                         Glencairn\\n  \n20                                      Not assigned\\n  \n21                                      Not assigned\\n  \n22                                        Cloverdale\\n  \n23                                         Islington\\n  \n24                                      Martin Grove\\n  \n25                                  Princess Gardens\\n  \n26                                   West Deane Park\\n  \n27                                    Highland Creek\\n  \n28                                        Rouge Hill\\n  \n29                                        Port Union\\n  \n..                                                 ...  \n258                                     Not assigned\\n  \n259                                     Not assigned\\n  \n260                                     Not assigned\\n  \n261                                     Not assigned\\n  \n262                             Church and Wellesley\\n  \n263                                     Not assigned\\n  \n264                                     Not assigned\\n  \n265  Business Reply Mail Processing Centre 969 East...  \n266                                       Humber Bay\\n  \n267                                 King's Mill Park\\n  \n268                         Kingsway Park South East\\n  \n269                                        Mimico NE\\n  \n270                                   Old Mill South\\n  \n271                               The Queensway East\\n  \n272                            Royal York South East\\n  \n273                                         Sunnylea\\n  \n274                                     Not assigned\\n  \n275                                     Not assigned\\n  \n276                                     Not assigned\\n  \n277                                     Not assigned\\n  \n278                                     Not assigned\\n  \n279                                     Not assigned\\n  \n280                                     Not assigned\\n  \n281                                     Not assigned\\n  \n282                         Kingsway Park South West\\n  \n283                                        Mimico NW\\n  \n284                               The Queensway West\\n  \n285                            Royal York South West\\n  \n286                                   South of Bloor\\n  \n287                                     Not assigned\\n  \n\n[288 rows x 3 columns]"
                    }, 
                    "output_type": "execute_result"
                }
            ], 
            "source": "df = pd.read_csv('output.csv', names = ['Postcode','Borough','Neighborhood'])\ndf"
        }, 
        {
            "execution_count": 13, 
            "cell_type": "code", 
            "metadata": {}, 
            "outputs": [
                {
                    "execution_count": 13, 
                    "metadata": {}, 
                    "data": {
                        "text/html": "<div>\n<style scoped>\n    .dataframe tbody tr th:only-of-type {\n        vertical-align: middle;\n    }\n\n    .dataframe tbody tr th {\n        vertical-align: top;\n    }\n\n    .dataframe thead th {\n        text-align: right;\n    }\n</style>\n<table border=\"1\" class=\"dataframe\">\n  <thead>\n    <tr style=\"text-align: right;\">\n      <th></th>\n      <th>Postcode</th>\n      <th>Borough</th>\n      <th>Neighborhood</th>\n    </tr>\n  </thead>\n  <tbody>\n    <tr>\n      <th>2</th>\n      <td>M3A</td>\n      <td>North York</td>\n      <td>Parkwoods\\n</td>\n    </tr>\n    <tr>\n      <th>3</th>\n      <td>M4A</td>\n      <td>North York</td>\n      <td>Victoria Village\\n</td>\n    </tr>\n    <tr>\n      <th>4</th>\n      <td>M5A</td>\n      <td>Downtown Toronto</td>\n      <td>Harbourfront\\n</td>\n    </tr>\n    <tr>\n      <th>5</th>\n      <td>M5A</td>\n      <td>Downtown Toronto</td>\n      <td>Regent Park\\n</td>\n    </tr>\n    <tr>\n      <th>6</th>\n      <td>M6A</td>\n      <td>North York</td>\n      <td>Lawrence Heights\\n</td>\n    </tr>\n  </tbody>\n</table>\n</div>", 
                        "text/plain": "  Postcode           Borough        Neighborhood\n2      M3A        North York         Parkwoods\\n\n3      M4A        North York  Victoria Village\\n\n4      M5A  Downtown Toronto      Harbourfront\\n\n5      M5A  Downtown Toronto       Regent Park\\n\n6      M6A        North York  Lawrence Heights\\n"
                    }, 
                    "output_type": "execute_result"
                }
            ], 
            "source": "notAssigned = df[ df['Borough'] == 'Not assigned' ].index\ndf.drop(notAssigned, inplace=True)\ndf.head()\n#remove not assigned Bouroughs"
        }, 
        {
            "execution_count": 14, 
            "cell_type": "code", 
            "metadata": {}, 
            "outputs": [
                {
                    "output_type": "stream", 
                    "name": "stdout", 
                    "text": "<class 'pandas.core.frame.DataFrame'>\nInt64Index: 211 entries, 2 to 286\nData columns (total 3 columns):\nPostcode        211 non-null object\nBorough         211 non-null object\nNeighborhood    211 non-null object\ndtypes: object(3)\nmemory usage: 6.6+ KB\n"
                }
            ], 
            "source": "df.info()"
        }, 
        {
            "execution_count": 15, 
            "cell_type": "code", 
            "metadata": {}, 
            "outputs": [
                {
                    "execution_count": 15, 
                    "metadata": {}, 
                    "data": {
                        "text/html": "<div>\n<style scoped>\n    .dataframe tbody tr th:only-of-type {\n        vertical-align: middle;\n    }\n\n    .dataframe tbody tr th {\n        vertical-align: top;\n    }\n\n    .dataframe thead th {\n        text-align: right;\n    }\n</style>\n<table border=\"1\" class=\"dataframe\">\n  <thead>\n    <tr style=\"text-align: right;\">\n      <th></th>\n      <th>Postcode</th>\n      <th>Borough</th>\n      <th>Neighborhood</th>\n    </tr>\n  </thead>\n  <tbody>\n    <tr>\n      <th>2</th>\n      <td>M3A</td>\n      <td>North York</td>\n      <td>Parkwoods</td>\n    </tr>\n    <tr>\n      <th>3</th>\n      <td>M4A</td>\n      <td>North York</td>\n      <td>Victoria Village</td>\n    </tr>\n    <tr>\n      <th>4</th>\n      <td>M5A</td>\n      <td>Downtown Toronto</td>\n      <td>Harbourfront</td>\n    </tr>\n    <tr>\n      <th>5</th>\n      <td>M5A</td>\n      <td>Downtown Toronto</td>\n      <td>Regent Park</td>\n    </tr>\n    <tr>\n      <th>6</th>\n      <td>M6A</td>\n      <td>North York</td>\n      <td>Lawrence Heights</td>\n    </tr>\n  </tbody>\n</table>\n</div>", 
                        "text/plain": "  Postcode           Borough      Neighborhood\n2      M3A        North York         Parkwoods\n3      M4A        North York  Victoria Village\n4      M5A  Downtown Toronto      Harbourfront\n5      M5A  Downtown Toronto       Regent Park\n6      M6A        North York  Lawrence Heights"
                    }, 
                    "output_type": "execute_result"
                }
            ], 
            "source": "df.Neighborhood = df.Neighborhood.str.replace('\\n','')\ndf.head()\n#remove /n                                            "
        }, 
        {
            "execution_count": 16, 
            "cell_type": "code", 
            "metadata": {}, 
            "outputs": [
                {
                    "execution_count": 16, 
                    "metadata": {}, 
                    "data": {
                        "text/html": "<div>\n<style scoped>\n    .dataframe tbody tr th:only-of-type {\n        vertical-align: middle;\n    }\n\n    .dataframe tbody tr th {\n        vertical-align: top;\n    }\n\n    .dataframe thead th {\n        text-align: right;\n    }\n</style>\n<table border=\"1\" class=\"dataframe\">\n  <thead>\n    <tr style=\"text-align: right;\">\n      <th></th>\n      <th>Postcode</th>\n      <th>Borough</th>\n      <th>Neighborhood</th>\n    </tr>\n  </thead>\n  <tbody>\n    <tr>\n      <th>2</th>\n      <td>M3A</td>\n      <td>North York</td>\n      <td>Parkwoods</td>\n    </tr>\n    <tr>\n      <th>3</th>\n      <td>M4A</td>\n      <td>North York</td>\n      <td>Victoria Village</td>\n    </tr>\n    <tr>\n      <th>4</th>\n      <td>M5A</td>\n      <td>Downtown Toronto</td>\n      <td>Harbourfront,Regent Park</td>\n    </tr>\n    <tr>\n      <th>6</th>\n      <td>M6A</td>\n      <td>North York</td>\n      <td>Lawrence Heights,Lawrence Manor</td>\n    </tr>\n    <tr>\n      <th>8</th>\n      <td>M7A</td>\n      <td>Queen's Park</td>\n      <td>Queens Park</td>\n    </tr>\n    <tr>\n      <th>10</th>\n      <td>M9A</td>\n      <td>Etobicoke</td>\n      <td>Islington Avenue</td>\n    </tr>\n    <tr>\n      <th>11</th>\n      <td>M1B</td>\n      <td>Scarborough</td>\n      <td>Rouge,Malvern</td>\n    </tr>\n    <tr>\n      <th>14</th>\n      <td>M3B</td>\n      <td>North York</td>\n      <td>Don Mills North</td>\n    </tr>\n    <tr>\n      <th>15</th>\n      <td>M4B</td>\n      <td>East York</td>\n      <td>Woodbine Gardens,Parkview Hill</td>\n    </tr>\n    <tr>\n      <th>17</th>\n      <td>M5B</td>\n      <td>Downtown Toronto</td>\n      <td>Ryerson,Garden District</td>\n    </tr>\n    <tr>\n      <th>19</th>\n      <td>M6B</td>\n      <td>North York</td>\n      <td>Glencairn</td>\n    </tr>\n    <tr>\n      <th>22</th>\n      <td>M9B</td>\n      <td>Etobicoke</td>\n      <td>Cloverdale,Islington,Martin Grove,Princess Gar...</td>\n    </tr>\n    <tr>\n      <th>27</th>\n      <td>M1C</td>\n      <td>Scarborough</td>\n      <td>Highland Creek,Rouge Hill,Port Union</td>\n    </tr>\n    <tr>\n      <th>31</th>\n      <td>M3C</td>\n      <td>North York</td>\n      <td>Flemingdon Park,Don Mills South</td>\n    </tr>\n    <tr>\n      <th>33</th>\n      <td>M4C</td>\n      <td>East York</td>\n      <td>Woodbine Heights</td>\n    </tr>\n    <tr>\n      <th>34</th>\n      <td>M5C</td>\n      <td>Downtown Toronto</td>\n      <td>St. James Town</td>\n    </tr>\n    <tr>\n      <th>35</th>\n      <td>M6C</td>\n      <td>York</td>\n      <td>Humewood-Cedarvale</td>\n    </tr>\n    <tr>\n      <th>38</th>\n      <td>M9C</td>\n      <td>Etobicoke</td>\n      <td>Bloordale Gardens,Eringate,Markland Wood,Old B...</td>\n    </tr>\n    <tr>\n      <th>42</th>\n      <td>M1E</td>\n      <td>Scarborough</td>\n      <td>Guildwood,Morningside,West Hill</td>\n    </tr>\n    <tr>\n      <th>47</th>\n      <td>M4E</td>\n      <td>East Toronto</td>\n      <td>The Beaches</td>\n    </tr>\n    <tr>\n      <th>48</th>\n      <td>M5E</td>\n      <td>Downtown Toronto</td>\n      <td>Berczy Park</td>\n    </tr>\n    <tr>\n      <th>49</th>\n      <td>M6E</td>\n      <td>York</td>\n      <td>Caledonia-Fairbanks</td>\n    </tr>\n    <tr>\n      <th>53</th>\n      <td>M1G</td>\n      <td>Scarborough</td>\n      <td>Woburn</td>\n    </tr>\n    <tr>\n      <th>56</th>\n      <td>M4G</td>\n      <td>East York</td>\n      <td>Leaside</td>\n    </tr>\n    <tr>\n      <th>57</th>\n      <td>M5G</td>\n      <td>Downtown Toronto</td>\n      <td>Central Bay Street</td>\n    </tr>\n    <tr>\n      <th>58</th>\n      <td>M6G</td>\n      <td>Downtown Toronto</td>\n      <td>Christie</td>\n    </tr>\n    <tr>\n      <th>62</th>\n      <td>M1H</td>\n      <td>Scarborough</td>\n      <td>Cedarbrae</td>\n    </tr>\n    <tr>\n      <th>63</th>\n      <td>M2H</td>\n      <td>North York</td>\n      <td>Hillcrest Village</td>\n    </tr>\n    <tr>\n      <th>64</th>\n      <td>M3H</td>\n      <td>North York</td>\n      <td>Bathurst Manor,Downsview North,Wilson Heights</td>\n    </tr>\n    <tr>\n      <th>67</th>\n      <td>M4H</td>\n      <td>East York</td>\n      <td>Thorncliffe Park</td>\n    </tr>\n    <tr>\n      <th>...</th>\n      <td>...</td>\n      <td>...</td>\n      <td>...</td>\n    </tr>\n    <tr>\n      <th>168</th>\n      <td>M4R</td>\n      <td>Central Toronto</td>\n      <td>North Toronto West</td>\n    </tr>\n    <tr>\n      <th>169</th>\n      <td>M5R</td>\n      <td>Central Toronto</td>\n      <td>The Annex,North Midtown,Yorkville</td>\n    </tr>\n    <tr>\n      <th>172</th>\n      <td>M6R</td>\n      <td>West Toronto</td>\n      <td>Parkdale,Roncesvalles</td>\n    </tr>\n    <tr>\n      <th>174</th>\n      <td>M7R</td>\n      <td>Mississauga</td>\n      <td>Canada Post Gateway Processing Centre</td>\n    </tr>\n    <tr>\n      <th>176</th>\n      <td>M9R</td>\n      <td>Etobicoke</td>\n      <td>Kingsview Village,Martin Grove Gardens,Richvie...</td>\n    </tr>\n    <tr>\n      <th>180</th>\n      <td>M1S</td>\n      <td>Scarborough</td>\n      <td>Agincourt</td>\n    </tr>\n    <tr>\n      <th>183</th>\n      <td>M4S</td>\n      <td>Central Toronto</td>\n      <td>Davisville</td>\n    </tr>\n    <tr>\n      <th>184</th>\n      <td>M5S</td>\n      <td>Downtown Toronto</td>\n      <td>Harbord,University of Toronto</td>\n    </tr>\n    <tr>\n      <th>186</th>\n      <td>M6S</td>\n      <td>West Toronto</td>\n      <td>Runnymede,Swansea</td>\n    </tr>\n    <tr>\n      <th>191</th>\n      <td>M1T</td>\n      <td>Scarborough</td>\n      <td>Clarks Corners,Sullivan,Tam O'Shanter</td>\n    </tr>\n    <tr>\n      <th>196</th>\n      <td>M4T</td>\n      <td>Central Toronto</td>\n      <td>Moore Park,Summerhill East</td>\n    </tr>\n    <tr>\n      <th>198</th>\n      <td>M5T</td>\n      <td>Downtown Toronto</td>\n      <td>Chinatown,Grange Park,Kensington Market</td>\n    </tr>\n    <tr>\n      <th>205</th>\n      <td>M1V</td>\n      <td>Scarborough</td>\n      <td>Agincourt North,L'Amoreaux East,Milliken,Steel...</td>\n    </tr>\n    <tr>\n      <th>211</th>\n      <td>M4V</td>\n      <td>Central Toronto</td>\n      <td>Deer Park,Forest Hill SE,Rathnelly,South Hill,...</td>\n    </tr>\n    <tr>\n      <th>216</th>\n      <td>M5V</td>\n      <td>Downtown Toronto</td>\n      <td>CN Tower,Bathurst Quay,Island airport,Harbourf...</td>\n    </tr>\n    <tr>\n      <th>225</th>\n      <td>M8V</td>\n      <td>Etobicoke</td>\n      <td>Humber Bay Shores,Mimico South,New Toronto</td>\n    </tr>\n    <tr>\n      <th>228</th>\n      <td>M9V</td>\n      <td>Etobicoke</td>\n      <td>Albion Gardens,Beaumond Heights,Humbergate,Jam...</td>\n    </tr>\n    <tr>\n      <th>236</th>\n      <td>M1W</td>\n      <td>Scarborough</td>\n      <td>L'Amoreaux West</td>\n    </tr>\n    <tr>\n      <th>239</th>\n      <td>M4W</td>\n      <td>Downtown Toronto</td>\n      <td>Rosedale</td>\n    </tr>\n    <tr>\n      <th>240</th>\n      <td>M5W</td>\n      <td>Downtown Toronto</td>\n      <td>Stn A PO Boxes 25 The Esplanade</td>\n    </tr>\n    <tr>\n      <th>243</th>\n      <td>M8W</td>\n      <td>Etobicoke</td>\n      <td>Alderwood,Long Branch</td>\n    </tr>\n    <tr>\n      <th>245</th>\n      <td>M9W</td>\n      <td>Etobicoke</td>\n      <td>Northwest</td>\n    </tr>\n    <tr>\n      <th>246</th>\n      <td>M1X</td>\n      <td>Scarborough</td>\n      <td>Upper Rouge</td>\n    </tr>\n    <tr>\n      <th>249</th>\n      <td>M4X</td>\n      <td>Downtown Toronto</td>\n      <td>Cabbagetown,St. James Town</td>\n    </tr>\n    <tr>\n      <th>251</th>\n      <td>M5X</td>\n      <td>Downtown Toronto</td>\n      <td>First Canadian Place,Underground city</td>\n    </tr>\n    <tr>\n      <th>255</th>\n      <td>M8X</td>\n      <td>Etobicoke</td>\n      <td>The Kingsway,Montgomery Road,Old Mill North</td>\n    </tr>\n    <tr>\n      <th>262</th>\n      <td>M4Y</td>\n      <td>Downtown Toronto</td>\n      <td>Church and Wellesley</td>\n    </tr>\n    <tr>\n      <th>265</th>\n      <td>M7Y</td>\n      <td>East Toronto</td>\n      <td>Business Reply Mail Processing Centre 969 Eastern</td>\n    </tr>\n    <tr>\n      <th>266</th>\n      <td>M8Y</td>\n      <td>Etobicoke</td>\n      <td>Humber Bay,King's Mill Park,Kingsway Park Sout...</td>\n    </tr>\n    <tr>\n      <th>282</th>\n      <td>M8Z</td>\n      <td>Etobicoke</td>\n      <td>Kingsway Park South West,Mimico NW,The Queensw...</td>\n    </tr>\n  </tbody>\n</table>\n<p>103 rows \u00d7 3 columns</p>\n</div>", 
                        "text/plain": "    Postcode           Borough  \\\n2        M3A        North York   \n3        M4A        North York   \n4        M5A  Downtown Toronto   \n6        M6A        North York   \n8        M7A      Queen's Park   \n10       M9A         Etobicoke   \n11       M1B       Scarborough   \n14       M3B        North York   \n15       M4B         East York   \n17       M5B  Downtown Toronto   \n19       M6B        North York   \n22       M9B         Etobicoke   \n27       M1C       Scarborough   \n31       M3C        North York   \n33       M4C         East York   \n34       M5C  Downtown Toronto   \n35       M6C              York   \n38       M9C         Etobicoke   \n42       M1E       Scarborough   \n47       M4E      East Toronto   \n48       M5E  Downtown Toronto   \n49       M6E              York   \n53       M1G       Scarborough   \n56       M4G         East York   \n57       M5G  Downtown Toronto   \n58       M6G  Downtown Toronto   \n62       M1H       Scarborough   \n63       M2H        North York   \n64       M3H        North York   \n67       M4H         East York   \n..       ...               ...   \n168      M4R   Central Toronto   \n169      M5R   Central Toronto   \n172      M6R      West Toronto   \n174      M7R       Mississauga   \n176      M9R         Etobicoke   \n180      M1S       Scarborough   \n183      M4S   Central Toronto   \n184      M5S  Downtown Toronto   \n186      M6S      West Toronto   \n191      M1T       Scarborough   \n196      M4T   Central Toronto   \n198      M5T  Downtown Toronto   \n205      M1V       Scarborough   \n211      M4V   Central Toronto   \n216      M5V  Downtown Toronto   \n225      M8V         Etobicoke   \n228      M9V         Etobicoke   \n236      M1W       Scarborough   \n239      M4W  Downtown Toronto   \n240      M5W  Downtown Toronto   \n243      M8W         Etobicoke   \n245      M9W         Etobicoke   \n246      M1X       Scarborough   \n249      M4X  Downtown Toronto   \n251      M5X  Downtown Toronto   \n255      M8X         Etobicoke   \n262      M4Y  Downtown Toronto   \n265      M7Y      East Toronto   \n266      M8Y         Etobicoke   \n282      M8Z         Etobicoke   \n\n                                          Neighborhood  \n2                                            Parkwoods  \n3                                     Victoria Village  \n4                             Harbourfront,Regent Park  \n6                      Lawrence Heights,Lawrence Manor  \n8                                          Queens Park  \n10                                    Islington Avenue  \n11                                       Rouge,Malvern  \n14                                     Don Mills North  \n15                      Woodbine Gardens,Parkview Hill  \n17                             Ryerson,Garden District  \n19                                           Glencairn  \n22   Cloverdale,Islington,Martin Grove,Princess Gar...  \n27                Highland Creek,Rouge Hill,Port Union  \n31                     Flemingdon Park,Don Mills South  \n33                                    Woodbine Heights  \n34                                      St. James Town  \n35                                  Humewood-Cedarvale  \n38   Bloordale Gardens,Eringate,Markland Wood,Old B...  \n42                     Guildwood,Morningside,West Hill  \n47                                         The Beaches  \n48                                         Berczy Park  \n49                                 Caledonia-Fairbanks  \n53                                              Woburn  \n56                                             Leaside  \n57                                  Central Bay Street  \n58                                            Christie  \n62                                           Cedarbrae  \n63                                   Hillcrest Village  \n64       Bathurst Manor,Downsview North,Wilson Heights  \n67                                    Thorncliffe Park  \n..                                                 ...  \n168                                 North Toronto West  \n169                  The Annex,North Midtown,Yorkville  \n172                              Parkdale,Roncesvalles  \n174              Canada Post Gateway Processing Centre  \n176  Kingsview Village,Martin Grove Gardens,Richvie...  \n180                                          Agincourt  \n183                                         Davisville  \n184                      Harbord,University of Toronto  \n186                                  Runnymede,Swansea  \n191              Clarks Corners,Sullivan,Tam O'Shanter  \n196                         Moore Park,Summerhill East  \n198            Chinatown,Grange Park,Kensington Market  \n205  Agincourt North,L'Amoreaux East,Milliken,Steel...  \n211  Deer Park,Forest Hill SE,Rathnelly,South Hill,...  \n216  CN Tower,Bathurst Quay,Island airport,Harbourf...  \n225         Humber Bay Shores,Mimico South,New Toronto  \n228  Albion Gardens,Beaumond Heights,Humbergate,Jam...  \n236                                    L'Amoreaux West  \n239                                           Rosedale  \n240                    Stn A PO Boxes 25 The Esplanade  \n243                              Alderwood,Long Branch  \n245                                          Northwest  \n246                                        Upper Rouge  \n249                         Cabbagetown,St. James Town  \n251              First Canadian Place,Underground city  \n255        The Kingsway,Montgomery Road,Old Mill North  \n262                               Church and Wellesley  \n265  Business Reply Mail Processing Centre 969 Eastern  \n266  Humber Bay,King's Mill Park,Kingsway Park Sout...  \n282  Kingsway Park South West,Mimico NW,The Queensw...  \n\n[103 rows x 3 columns]"
                    }, 
                    "output_type": "execute_result"
                }
            ], 
            "source": "df.Neighborhood = df.Neighborhood.str.replace('Not assigned','Queens Park')\ndf['Neighborhood'] = df[['Postcode','Borough','Neighborhood']].groupby(['Postcode','Borough'])['Neighborhood'].transform(lambda x: ','.join(x))\nclean_df = df[['Postcode','Borough','Neighborhood']].drop_duplicates()\nclean_df\n#group and concatenate Neighborhood fields, rename new dataframe"
        }, 
        {
            "execution_count": 17, 
            "cell_type": "code", 
            "metadata": {}, 
            "outputs": [
                {
                    "execution_count": 17, 
                    "metadata": {}, 
                    "data": {
                        "text/plain": "(103, 3)"
                    }, 
                    "output_type": "execute_result"
                }
            ], 
            "source": "clean_df.shape\n#newdataframe shape"
        }
    ], 
    "metadata": {
        "kernelspec": {
            "display_name": "Python 3.5", 
            "name": "python3", 
            "language": "python"
        }, 
        "language_info": {
            "mimetype": "text/x-python", 
            "nbconvert_exporter": "python", 
            "version": "3.5.5", 
            "name": "python", 
            "file_extension": ".py", 
            "pygments_lexer": "ipython3", 
            "codemirror_mode": {
                "version": 3, 
                "name": "ipython"
            }
        }
    }, 
    "nbformat": 4
}